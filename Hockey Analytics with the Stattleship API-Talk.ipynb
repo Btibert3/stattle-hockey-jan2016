{
 "cells": [
  {
   "cell_type": "markdown",
   "metadata": {},
   "source": [
    "# Hockey Analytics with the Stattleship API\n",
    "\n",
    "__@BrockTibert__    \n",
    "\n",
    "__Feburary 2016__"
   ]
  },
  {
   "cell_type": "markdown",
   "metadata": {},
   "source": [
    "<hr/>"
   ]
  },
  {
   "cell_type": "markdown",
   "metadata": {},
   "source": [
    "# Outline\n",
    "\n",
    "-  Introduction and Setup\n",
    "-  Getting Started with `R`\n",
    "-  Exploring the API\n",
    "-  Game logs\n",
    "-  The Stats endpoint\n",
    "-  Scoring patterns of tonight's matchup  \n",
    "-  Clustering Allstar Skaters  \n",
    "-  Scoring Networks\n"
   ]
  },
  {
   "cell_type": "markdown",
   "metadata": {},
   "source": [
    "<hr/>"
   ]
  },
  {
   "cell_type": "markdown",
   "metadata": {},
   "source": [
    "# Setup\n",
    "\n",
    "Before we get started a few helpful resources:\n",
    "\n",
    "\n",
    "### _Get your API_\n",
    "\n",
    "To use the API, you need a token.  Get yours at [www.stattleship.com](https://stattleship.com/)\n",
    "\n",
    "\n",
    "### _Explore what is possible_\n",
    "\n",
    "1.  Take a look at [the playbook](http://playbook.stattleship.com/)\n",
    "\n",
    "2.  You can also look at other code samples at http://developers.stattleship.com/#introduction\n",
    "\n",
    "### _Github Development_\n",
    "\n",
    "Check out the Github repo at https://github.com/stattleship\n",
    "\n",
    "### API Access\n",
    "\n",
    "It's a `REST` API, so getting data is fairly straightforward for most programming languages and the command line and `curl`.  But to make it easier, we have been working on a few wrappers in common languages.\n",
    "\n",
    "-  [Ruby](https://github.com/stattleship/stattleship-ruby)  \n",
    "-  [R](https://github.com/stattleship/stattleship-r)  \n",
    "-  [Python](https://github.com/stattleship/stattleship-python)  \n"
   ]
  },
  {
   "cell_type": "markdown",
   "metadata": {},
   "source": [
    "<hr/>"
   ]
  },
  {
   "cell_type": "markdown",
   "metadata": {},
   "source": [
    "# Getting Started with R\n",
    "\n",
    "Some requirements:\n",
    "\n",
    "1.  `R`, which can be downloaded at https://cran.r-project.org/\n",
    "2.  You need your API token, which you can get as described above.  \n",
    "\n",
    "I am using a jupyter notebook for this talk, but most of the time you would probably want to use __Rstudio__ as your IDE.  I highly recommend downloading it at https://www.rstudio.com/.\n",
    "\n"
   ]
  },
  {
   "cell_type": "markdown",
   "metadata": {},
   "source": [
    "## Install the R Package for Stattleship"
   ]
  },
  {
   "cell_type": "markdown",
   "metadata": {},
   "source": [
    "To install the R wrapper for the Stattleship API, you will need the devtools package.  From the R REPL, type:\n",
    "\n",
    "```\n",
    "install.packages(\"devtools\")\n",
    "```\n",
    "\n",
    "It may ask you for a mirror if you are not using `RStudio`, but simply select one that is closest to you.\n",
    "\n",
    "Once `devtools` is good to go, you can install our R package by:\n",
    "\n",
    "```\n",
    "devtools::install_github(\"stattleship/stattleship-r\")\n",
    "```\n",
    "\n",
    "You should be good to go.  If you have trouble with this, let us know, and we should be able to help you out.\n",
    "\n",
    "Below, I will use a few other packages as well.  They are pretty helpful to have installed for everday R coding.\n",
    "\n",
    "```\n",
    "install.packages(\"dplyr\")\n",
    "install.packages(\"stringr\")\n",
    "install.packages(\"lubridate\")\n",
    "install.packages(\"ggplot2\")\n",
    "install.packages(\"tidyr\")\n",
    "install.packages(\"RColorBrewer\")\n",
    "```"
   ]
  },
  {
   "cell_type": "markdown",
   "metadata": {},
   "source": [
    "<hr/>"
   ]
  },
  {
   "cell_type": "markdown",
   "metadata": {},
   "source": [
    "# Explore the API\n",
    "\n",
    "_Let's get started ..._"
   ]
  },
  {
   "cell_type": "code",
   "execution_count": null,
   "metadata": {
    "collapsed": false
   },
   "outputs": [],
   "source": [
    "## factors are the devil\n",
    "options(stringsAsFactors = FALSE)\n",
    "\n",
    "## install some packages\n",
    "library(stattleshipR)\n",
    "suppressPackageStartupMessages(library(\"dplyr\"))\n",
    "library(\"lubridate\")\n",
    "library(\"stringr\")\n",
    "library(\"ggplot2\")\n",
    "library(\"tidyr\")\n",
    "library(\"RColorBrewer\")\n",
    "\n"
   ]
  },
  {
   "cell_type": "code",
   "execution_count": null,
   "metadata": {
    "collapsed": true
   },
   "outputs": [],
   "source": [
    "## to access the API, you need to set your token\n",
    "set_token(Sys.getenv(\"STATTLE_TOKEN\"))"
   ]
  },
  {
   "cell_type": "markdown",
   "metadata": {},
   "source": [
    "Above, I set my token with an `environment variable`, butyou could have set the token just as easily by:\n",
    "\n",
    "```\n",
    "set_token(\"YourTokenGoesHere\")\n",
    "```\n",
    "\n",
    "I just prefer to set my API tokens as environment variables on my system so I don't have to type them out each time.  \n",
    "\n",
    "For more help on R Environment variables, poke around for help on `.Reviron` files, which is simply a text file of commands that R reads in at startup.  I keep this in my home directory `~`."
   ]
  },
  {
   "cell_type": "markdown",
   "metadata": {},
   "source": [
    "## Helpers\n",
    "\n",
    "Out-of-the-box, there are a few helper functions that make it easy to get started.\n",
    "\n",
    "### Teams"
   ]
  },
  {
   "cell_type": "code",
   "execution_count": null,
   "metadata": {
    "collapsed": false
   },
   "outputs": [],
   "source": [
    "## lets pull down all of the teams\n",
    "teams <- hockey_teams()"
   ]
  },
  {
   "cell_type": "code",
   "execution_count": null,
   "metadata": {
    "collapsed": false
   },
   "outputs": [],
   "source": [
    "## what do we have\n",
    "class(teams)"
   ]
  },
  {
   "cell_type": "code",
   "execution_count": null,
   "metadata": {
    "collapsed": false
   },
   "outputs": [],
   "source": [
    "## what are the columns of data\n",
    "colnames(teams)"
   ]
  },
  {
   "cell_type": "code",
   "execution_count": null,
   "metadata": {
    "collapsed": false
   },
   "outputs": [],
   "source": [
    "## lets look at the first few rows of data\n",
    "head(teams, 3)"
   ]
  },
  {
   "cell_type": "markdown",
   "metadata": {
    "collapsed": true
   },
   "source": [
    "A few notes about some really helpful conventions:\n",
    "\n",
    "## _Quick Tip_\n",
    "\n",
    "Teams, players, and games have slugs.  They take the form of:\n",
    "\n",
    "- `nhl-bos`  \n",
    "- `nhl-ryan-spooner`\n",
    "- `nhl-2015-2016-ott-bos-2016-04-9-1230`\n",
    "\n",
    "Slugs will help you as you dive into your own ideas and explore the API.\n",
    "\n",
    "### Games\n"
   ]
  },
  {
   "cell_type": "code",
   "execution_count": null,
   "metadata": {
    "collapsed": false
   },
   "outputs": [],
   "source": [
    "## The functions are documented\n",
    "?hockey_games"
   ]
  },
  {
   "cell_type": "code",
   "execution_count": null,
   "metadata": {
    "collapsed": false
   },
   "outputs": [],
   "source": [
    "## Get all of the B's regular season games for the season\n",
    "bos_games <- hockey_games()"
   ]
  },
  {
   "cell_type": "code",
   "execution_count": null,
   "metadata": {
    "collapsed": false
   },
   "outputs": [],
   "source": [
    "## what do we have\n",
    "dim(bos_games)"
   ]
  },
  {
   "cell_type": "code",
   "execution_count": null,
   "metadata": {
    "collapsed": false
   },
   "outputs": [],
   "source": [
    "colnames(bos_games)\n",
    "head(bos_games, 3)"
   ]
  },
  {
   "cell_type": "markdown",
   "metadata": {},
   "source": [
    "### Players"
   ]
  },
  {
   "cell_type": "code",
   "execution_count": null,
   "metadata": {
    "collapsed": false
   },
   "outputs": [],
   "source": [
    "bos_players <- hockey_players()"
   ]
  },
  {
   "cell_type": "code",
   "execution_count": null,
   "metadata": {
    "collapsed": false
   },
   "outputs": [],
   "source": [
    "colnames(players)\n",
    "head(players, 3)"
   ]
  },
  {
   "cell_type": "markdown",
   "metadata": {},
   "source": [
    "### Even Injuries"
   ]
  },
  {
   "cell_type": "code",
   "execution_count": null,
   "metadata": {
    "collapsed": false
   },
   "outputs": [],
   "source": [
    "## get the injuries\n",
    "bos_injuries <- hockey_injuries(team_id = \"nhl-bos\")"
   ]
  },
  {
   "cell_type": "code",
   "execution_count": null,
   "metadata": {
    "collapsed": false
   },
   "outputs": [],
   "source": [
    "dim(bos_injuries)"
   ]
  },
  {
   "cell_type": "code",
   "execution_count": null,
   "metadata": {
    "collapsed": false
   },
   "outputs": [],
   "source": [
    "colnames(bos_injuries)"
   ]
  },
  {
   "cell_type": "code",
   "execution_count": null,
   "metadata": {
    "collapsed": false
   },
   "outputs": [],
   "source": [
    "## grab a few key columns and print\n",
    "select(bos_injuries, started_on, location_name, note, status) %>% head(3)"
   ]
  },
  {
   "cell_type": "markdown",
   "metadata": {},
   "source": [
    "We will be doing much more with helpers in the coming weeks, but the real fun is when you play around with the results at a more granular level. In the meantime, I am going to source a few helpers that I will use next.  These are not part of the R package, but may be in the future."
   ]
  },
  {
   "cell_type": "code",
   "execution_count": null,
   "metadata": {
    "collapsed": false
   },
   "outputs": [],
   "source": [
    "## source some helper functions\n",
    "## the key function is parse_stattle\n",
    "devtools::source_url(\"http://bit.ly/1OY151g\")"
   ]
  },
  {
   "cell_type": "markdown",
   "metadata": {},
   "source": [
    "<hr/>"
   ]
  },
  {
   "cell_type": "markdown",
   "metadata": {},
   "source": [
    "# A Deeper Dive into the API\n",
    "\n",
    "The real workhorse of the R package right now is `ss_get_result`.  \n",
    "\n",
    "This function allows us to interface with the endpoints at a granular level"
   ]
  },
  {
   "cell_type": "code",
   "execution_count": null,
   "metadata": {
    "collapsed": false
   },
   "outputs": [],
   "source": [
    "?ss_get_result"
   ]
  },
  {
   "cell_type": "code",
   "execution_count": null,
   "metadata": {
    "collapsed": false
   },
   "outputs": [],
   "source": [
    "## going back to Boston's games, we can filter the results\n",
    "## below I am going to pull all of the finished bruins regular seasons gmes\n",
    "qbody <- list(team_id = \"nhl-bos\", interval_type=\"regularseason\", status=\"ended\")\n",
    "bos_games <- ss_get_result(ep=\"games\", query=qbody, walk=TRUE)"
   ]
  },
  {
   "cell_type": "code",
   "execution_count": null,
   "metadata": {
    "collapsed": false
   },
   "outputs": [],
   "source": [
    "## the data are returned in lists to allow you more flexibility\n",
    "length(bos_games)"
   ]
  },
  {
   "cell_type": "code",
   "execution_count": null,
   "metadata": {
    "collapsed": false
   },
   "outputs": [],
   "source": [
    "names(bos_games)"
   ]
  },
  {
   "cell_type": "markdown",
   "metadata": {},
   "source": [
    "When we set `walk=TRUE`, we are paging through the results of the API.  Each page of data is returned as en entry in the R list."
   ]
  },
  {
   "cell_type": "code",
   "execution_count": null,
   "metadata": {
    "collapsed": false
   },
   "outputs": [],
   "source": [
    "class(bos_games)"
   ]
  },
  {
   "cell_type": "code",
   "execution_count": null,
   "metadata": {
    "collapsed": false
   },
   "outputs": [],
   "source": [
    "names(bos_games[[1]])"
   ]
  },
  {
   "cell_type": "markdown",
   "metadata": {},
   "source": [
    "The above represent the data that come back to us. While we could use `do.call` to parse things out, one of the helper functions loaded above makes things even easier.  It is __parse_stattle()__.  We can use the function to get the entry across all of the pages."
   ]
  },
  {
   "cell_type": "code",
   "execution_count": null,
   "metadata": {
    "collapsed": true
   },
   "outputs": [],
   "source": [
    "## it takes the raw results, and the API entry\n",
    "games <- parse_stattle(bos_games, \"games\")"
   ]
  },
  {
   "cell_type": "code",
   "execution_count": null,
   "metadata": {
    "collapsed": false
   },
   "outputs": [],
   "source": [
    "## what comes back?\n",
    "class(games)"
   ]
  },
  {
   "cell_type": "code",
   "execution_count": null,
   "metadata": {
    "collapsed": false
   },
   "outputs": [],
   "source": [
    "dim(games)"
   ]
  },
  {
   "cell_type": "code",
   "execution_count": null,
   "metadata": {
    "collapsed": false
   },
   "outputs": [],
   "source": [
    "colnames(games)"
   ]
  },
  {
   "cell_type": "code",
   "execution_count": null,
   "metadata": {
    "collapsed": false
   },
   "outputs": [],
   "source": [
    "head(games, 3)"
   ]
  },
  {
   "cell_type": "markdown",
   "metadata": {},
   "source": [
    "# Game Logs\n"
   ]
  },
  {
   "cell_type": "markdown",
   "metadata": {},
   "source": [
    "![friends](https://33.media.tumblr.com/047a3fb868caa569ae2432c083f2fa7c/tumblr_inline_n6ngg3PFX51szj4b9.gif)"
   ]
  },
  {
   "cell_type": "code",
   "execution_count": null,
   "metadata": {
    "collapsed": false
   },
   "outputs": [],
   "source": [
    "## teams have game logs.  Lets get the Bruins\n",
    "qbody <- list(team_id = \"nhl-bos\", interval_type=\"regularseason\", status=\"ended\")\n",
    "gl_raw <- ss_get_result(ep=\"team_game_logs\", query=qbody, walk=TRUE)"
   ]
  },
  {
   "cell_type": "code",
   "execution_count": null,
   "metadata": {
    "collapsed": false
   },
   "outputs": [],
   "source": [
    "logs <- parse_stattle(gl_raw, \"team_game_logs\")"
   ]
  },
  {
   "cell_type": "code",
   "execution_count": null,
   "metadata": {
    "collapsed": false
   },
   "outputs": [],
   "source": [
    "colnames(logs)"
   ]
  },
  {
   "cell_type": "code",
   "execution_count": null,
   "metadata": {
    "collapsed": false
   },
   "outputs": [],
   "source": [
    "head(logs, 3)"
   ]
  },
  {
   "cell_type": "code",
   "execution_count": null,
   "metadata": {
    "collapsed": false
   },
   "outputs": [],
   "source": [
    "## plot goals scored by wins and losses -- excludes overtime\n",
    "filter(logs, team_outcome %in% c(\"win\",\"loss\")) %>% \n",
    " ggplot(aes(team_score)) + geom_density() + facet_grid(team_outcome ~ .)"
   ]
  },
  {
   "cell_type": "code",
   "execution_count": null,
   "metadata": {
    "collapsed": false
   },
   "outputs": [],
   "source": [
    "## players also have game logs\n",
    "qbody <- list(player_id = \"nhl-patrick-kane\", interval_type=\"regularseason\", status=\"ended\")\n",
    "gl_raw <- ss_get_result(ep=\"game_logs\", query=qbody, walk=TRUE)"
   ]
  },
  {
   "cell_type": "code",
   "execution_count": null,
   "metadata": {
    "collapsed": false
   },
   "outputs": [],
   "source": [
    "kane_logs <- parse_stattle(gl_raw, \"game_logs\")\n",
    "games <- parse_stattle(gl_raw, \"games\")"
   ]
  },
  {
   "cell_type": "code",
   "execution_count": null,
   "metadata": {
    "collapsed": false
   },
   "outputs": [],
   "source": [
    "colnames(kane_logs)\n",
    "colnames(games)"
   ]
  },
  {
   "cell_type": "code",
   "execution_count": null,
   "metadata": {
    "collapsed": false
   },
   "outputs": [],
   "source": [
    "## some quick cleanup to merge the game data onto Kane's logs\n",
    "names(games)[1] <- \"game_id\"\n",
    "games <- select(games, game_id, attendance, started_at)\n",
    "kane_logs <- left_join(kane_logs, games)"
   ]
  },
  {
   "cell_type": "code",
   "execution_count": null,
   "metadata": {
    "collapsed": false
   },
   "outputs": [],
   "source": [
    "## prep the data for a point streak\n",
    "kane_logs <- arrange(kane_logs, started_at)\n",
    "kane_logs <- replace_na(kane_logs, replace = list(points=0))\n",
    "kane_logs <- mutate(kane_logs, gameid = 1:n())"
   ]
  },
  {
   "cell_type": "code",
   "execution_count": null,
   "metadata": {
    "collapsed": false
   },
   "outputs": [],
   "source": [
    "ggplot(kane_logs, aes(x=gameid, y=points)) + \n",
    " geom_line() + \n",
    " geom_point(aes(colour = factor(team_outcome)), size=3) + \n",
    " theme_bw()"
   ]
  },
  {
   "cell_type": "markdown",
   "metadata": {},
   "source": [
    "# Stats Endpoint\n",
    "\n",
    "We can get data for an individual stat.  Let's look at helpers.\n"
   ]
  },
  {
   "cell_type": "code",
   "execution_count": null,
   "metadata": {
    "collapsed": false
   },
   "outputs": [],
   "source": [
    "qbody <- list(player_id = \"nhl-erik-karlsson\", \n",
    "              interval_type=\"regularseason\", stat=\"assists\", type=\"hockey_offensive_stat\")\n",
    "stat_raw <- ss_get_result(ep=\"stats\", query=qbody, walk=TRUE)\n",
    "\n"
   ]
  },
  {
   "cell_type": "code",
   "execution_count": null,
   "metadata": {
    "collapsed": false
   },
   "outputs": [],
   "source": [
    "helpers <- parse_stattle(stat_raw, \"stats\")\n",
    "games <- parse_stattle(stat_raw, \"games\")\n",
    "games <- select(games, id, started_at)\n",
    "names(games)[1] <- \"game_id\"\n",
    "helpers <- left_join(helpers, games)\n",
    "helpers <- replace_na(helpers, replace = list(stat=0))\n",
    "helpers <- arrange(helpers, started_at)\n",
    "helpers <- transform(helpers, gameid = 1:nrow(helpers))"
   ]
  },
  {
   "cell_type": "code",
   "execution_count": null,
   "metadata": {
    "collapsed": false
   },
   "outputs": [],
   "source": [
    "ggplot(helpers, aes(x=gameid, y=stat)) + \n",
    " geom_line() + \n",
    " geom_point(size=3) + \n",
    " theme_bw()"
   ]
  },
  {
   "cell_type": "markdown",
   "metadata": {},
   "source": [
    "<hr/>"
   ]
  },
  {
   "cell_type": "markdown",
   "metadata": {},
   "source": [
    "# Total Stats\n",
    "\n",
    "In addition to getting a stat across the games (for a player __or__ team), it's possible to get a total stat.  \n",
    "\n",
    "Below, I want to dive into special teams play."
   ]
  },
  {
   "cell_type": "code",
   "execution_count": null,
   "metadata": {
    "collapsed": false
   },
   "outputs": [],
   "source": [
    "## a helper function for teams\n",
    "devtools::source_url(\"http://bit.ly/1QXoKEX\")"
   ]
  },
  {
   "cell_type": "code",
   "execution_count": null,
   "metadata": {
    "collapsed": false
   },
   "outputs": [],
   "source": [
    "## get the teams\n",
    "teams <- hockey_teams()\n",
    "## remove the allstar teams\n",
    "teams <- filter(teams, !slug %in% c(\"atl\", \"metro\", \"pac\", \"cent\"))"
   ]
  },
  {
   "cell_type": "code",
   "execution_count": null,
   "metadata": {
    "collapsed": false
   },
   "outputs": [],
   "source": [
    "## keep the slugs as dataframe\n",
    "teams <- select(teams, id, nickname, slug)"
   ]
  },
  {
   "cell_type": "code",
   "execution_count": null,
   "metadata": {
    "collapsed": false
   },
   "outputs": [],
   "source": [
    "## get the powerplays, penalties, and some stats on special teams\n",
    "get_tot_team_stats(\"power_plays\", \"hockey_team_stat\", teams$slug, teams)\n",
    "get_tot_team_stats(\"penalties\", \"hockey_team_stat\", teams$slug, teams)\n",
    "get_tot_team_stats(\"goals_power_play\", \"hockey_team_stat\", teams$slug, teams)\n",
    "get_tot_team_stats(\"player_points_power_play\", \"hockey_team_stat\", teams$slug, teams)\n",
    "get_tot_team_stats(\"player_points_short_handed\", \"hockey_team_stat\", teams$slug, teams)\n"
   ]
  },
  {
   "cell_type": "code",
   "execution_count": null,
   "metadata": {
    "collapsed": false
   },
   "outputs": [],
   "source": [
    "dim(teams)"
   ]
  },
  {
   "cell_type": "code",
   "execution_count": null,
   "metadata": {
    "collapsed": false
   },
   "outputs": [],
   "source": [
    "colnames(teams)"
   ]
  },
  {
   "cell_type": "code",
   "execution_count": null,
   "metadata": {
    "collapsed": false
   },
   "outputs": [],
   "source": [
    "summary(teams)"
   ]
  },
  {
   "cell_type": "code",
   "execution_count": null,
   "metadata": {
    "collapsed": false
   },
   "outputs": [],
   "source": [
    "ggplot(teams, aes(x=power_plays, y=penalties, label=slug)) +\n",
    " geom_text() + \n",
    " geom_hline(aes(yintercept=193.5), linetype=\"dotted\", colour=\"red\") +\n",
    " geom_vline(aes(xintercept=154), linetype=\"dotted\", colour=\"red\") + \n",
    " theme_bw()"
   ]
  },
  {
   "cell_type": "code",
   "execution_count": null,
   "metadata": {
    "collapsed": false
   },
   "outputs": [],
   "source": [
    "## best powerplays\n",
    "teams <- transform(teams, pp_pct = goals_power_play / power_plays)\n",
    "arrange(teams, desc(pp_pct)) %>% select(slug, pp_pct) %>% head(5)"
   ]
  },
  {
   "cell_type": "code",
   "execution_count": null,
   "metadata": {
    "collapsed": false
   },
   "outputs": [],
   "source": [
    "## a super naive fit\n",
    "lm(player_points_power_play ~ player_points_short_handed, teams)"
   ]
  },
  {
   "cell_type": "code",
   "execution_count": null,
   "metadata": {
    "collapsed": false
   },
   "outputs": [],
   "source": [
    "## put the fit line on \n",
    "ggplot(teams, aes(x=player_points_short_handed, y=player_points_power_play, label=slug)) +\n",
    " geom_text() + \n",
    " geom_abline(intercept=78.7699, slope=0.5859) + \n",
    " theme_bw()"
   ]
  },
  {
   "cell_type": "code",
   "execution_count": null,
   "metadata": {
    "collapsed": false
   },
   "outputs": [],
   "source": [
    "## smooth the pattern\n",
    "ggplot(teams, aes(x=player_points_short_handed, y=player_points_power_play, label=slug)) +\n",
    " geom_text() + \n",
    " geom_smooth() +\n",
    " theme_bw()"
   ]
  },
  {
   "cell_type": "markdown",
   "metadata": {},
   "source": [
    "I want to give credit to @IneffectiveMath and all the work that he does around visualization and analysis.  While not exactly the same, I recently saw this tweet and wanted to highlight that similar analyses are possible with the API.\n",
    "\n",
    "![pp](https://pbs.twimg.com/media/CX62Cb2W8AAQrNC.png)"
   ]
  },
  {
   "cell_type": "markdown",
   "metadata": {},
   "source": [
    "<hr/>"
   ]
  },
  {
   "cell_type": "markdown",
   "metadata": {},
   "source": [
    "# B's and Maple Leafs Scoring Patterns\n",
    "\n",
    "We recently announced two new additions to the API; scoring plays and penalties.  This section will explore the scoring patterns of tonight's matchup between the Bruins and the Maple Leafs.  \n",
    "\n",
    "The previous post can be found [here](http://blog.stattleship.com/hockey-meetup/)"
   ]
  },
  {
   "cell_type": "code",
   "execution_count": null,
   "metadata": {
    "collapsed": false
   },
   "outputs": [],
   "source": [
    "## get the scoring plays for tonights teams\n",
    "bos_sp <- ss_get_result(ep=\"scoring_plays\",\n",
    "                        query=list(team_id=\"nhl-bos\", status=\"ended\"), \n",
    "                        walk=TRUE,\n",
    "                        verbose=FALSE)\n",
    "tor_sp <- ss_get_result(ep=\"scoring_plays\",\n",
    "                        query=list(team_id=\"nhl-tor\", status=\"ended\"), \n",
    "                        walk=TRUE,\n",
    "                        verbose=FALSE)\n"
   ]
  },
  {
   "cell_type": "code",
   "execution_count": null,
   "metadata": {
    "collapsed": true
   },
   "outputs": [],
   "source": [
    "## parse plays\n",
    "bos_plays <- parse_stattle(bos_sp, \"scoring_plays\")\n",
    "tor_plays <- parse_stattle(tor_sp, \"scoring_plays\")\n",
    "\n",
    "## keep regulation\n",
    "bos_plays <- filter(bos_plays, period_number <= 3)\n",
    "tor_plays <- filter(tor_plays, period_number <= 3)\n",
    "\n",
    "## some transformations\n",
    "bos_plays <- transform(bos_plays,  \n",
    "                       minute = ceiling(period_seconds/60),\n",
    "                       team = \"Bruins\")\n",
    "tor_plays <- transform(tor_plays,  \n",
    "                       minute = ceiling(period_seconds/60),\n",
    "                       team = \"Maple Leafs\")\n",
    "\n",
    "## cleanup\n",
    "bos_plays <- select(bos_plays, -scoring_player_ids)\n",
    "tor_plays <- select(tor_plays, -scoring_player_ids)\n",
    "\n",
    "## join\n",
    "scoring <- bind_rows(bos_plays, tor_plays)\n"
   ]
  },
  {
   "cell_type": "code",
   "execution_count": null,
   "metadata": {
    "collapsed": false
   },
   "outputs": [],
   "source": [
    "## quick check\n",
    "with(scoring, table(team))"
   ]
  },
  {
   "cell_type": "code",
   "execution_count": null,
   "metadata": {
    "collapsed": false
   },
   "outputs": [],
   "source": [
    "## summarize the % of goals by period/minute for each team\n",
    "scoring_summ <- tbl_df(scoring) %>%\n",
    " group_by(team, period_number, minute) %>%\n",
    " summarise(goals = n())\n",
    "\n",
    "## make the pct\n",
    "scoring_summ <- transform(scoring_summ, \n",
    "                          pct_goals = ifelse(team==\"Bruins\", goals/143, goals/110))\n"
   ]
  },
  {
   "cell_type": "code",
   "execution_count": null,
   "metadata": {
    "collapsed": false
   },
   "outputs": [],
   "source": [
    "## heatmap of scoring by period\n",
    "ggplot(scoring_summ, aes(x=period_number, y=minute)) +\n",
    " geom_tile(aes(fill=pct_goals), colour = \"white\") + \n",
    " facet_grid(~team) +\n",
    " scale_fill_gradient(low = \"white\", high = \"red\") "
   ]
  },
  {
   "cell_type": "markdown",
   "metadata": {},
   "source": [
    "<hr/>"
   ]
  },
  {
   "cell_type": "markdown",
   "metadata": {},
   "source": [
    "# Clustering Allstar Skaters\n",
    "\n",
    "The previous post on this can be found [here](http://blog.stattleship.com/one-of-these-is-not-like-the-other/).\n",
    "\n",
    "Below, we will pull down data on the All-star roster, and using the first-half performance, cluster the skaters elected to Allstar Weekend."
   ]
  },
  {
   "cell_type": "code",
   "execution_count": null,
   "metadata": {
    "collapsed": true
   },
   "outputs": [],
   "source": [
    "## load the other packages\n",
    "library(googlesheets)\n",
    "\n",
    "## and bring in the cached data for the post\n",
    "load(\"allstar.rdata\")"
   ]
  },
  {
   "cell_type": "code",
   "execution_count": null,
   "metadata": {
    "collapsed": false
   },
   "outputs": [],
   "source": [
    "## source some helper functions\n",
    "devtools::source_url(\"http://bit.ly/1OY151g\")"
   ]
  },
  {
   "cell_type": "code",
   "execution_count": null,
   "metadata": {
    "collapsed": false
   },
   "outputs": [],
   "source": [
    "## get the allstar roster from a google doc\n",
    "key <- \"12dUvvbAc5h7uH9GaJDiJolXaicY90OAe3cqBT8vjASo\"\n",
    "star <- gs_key(key)\n",
    "roster <- gs_read(star, \n",
    "                  ws = \"roster\", \n",
    "                  range=\"A1:D45\")\n",
    "rm(key, star)"
   ]
  },
  {
   "cell_type": "code",
   "execution_count": null,
   "metadata": {
    "collapsed": false
   },
   "outputs": [],
   "source": [
    "## quick look at the roster\n",
    "head(roster)"
   ]
  },
  {
   "cell_type": "code",
   "execution_count": null,
   "metadata": {
    "collapsed": false
   },
   "outputs": [],
   "source": [
    "## create the master allstar dataframe\n",
    "allstar <- data.frame()\n",
    "\n",
    "\n",
    "## get the games played\n",
    "for (player in roster$slug) {\n",
    "  x <- count_games(player)\n",
    "  allstar <- bind_rows(allstar, x)\n",
    "  cat(\"added \", player, \"\\n\")\n",
    "} \n",
    "rm(x, player)\n",
    "allstar <- unique(allstar)"
   ]
  },
  {
   "cell_type": "code",
   "execution_count": null,
   "metadata": {
    "collapsed": false
   },
   "outputs": [],
   "source": [
    "## quick sanity check\n",
    "head(allstar)"
   ]
  },
  {
   "cell_type": "code",
   "execution_count": null,
   "metadata": {
    "collapsed": false
   },
   "outputs": [],
   "source": [
    "## get the stats using the helper functions and the total_stats endpoing\n",
    "get_tot_stat(\"goals\", \"hockey_offensive_stat\", allstar$slug, allstar, parse_player=TRUE)\n",
    "get_tot_stat(\"assists\", \"hockey_offensive_stat\", allstar$slug, allstar)\n",
    "get_tot_stat(\"shots\", \"hockey_offensive_stat\", allstar$slug, allstar)\n",
    "get_tot_stat(\"penalty_minutes\", \"hockey_player_stat\", allstar$slug, allstar)\n",
    "get_tot_stat(\"plus_minus\", \"hockey_player_stat\", allstar$slug, allstar)\n",
    "get_tot_stat(\"shifts\", \"hockey_player_stat\", allstar$slug, allstar)\n",
    "get_tot_stat(\"time_on_ice_even_strength_secs\", \"hockey_player_stat\", allstar$slug, allstar)\n",
    "get_tot_stat(\"time_on_ice_power_play_secs\", \"hockey_player_stat\", allstar$slug, allstar)\n",
    "get_tot_stat(\"time_on_ice_short_handed_secs\", \"hockey_player_stat\", allstar$slug, allstar)\n",
    "get_tot_stat(\"faceoff_win_percentage\", \"hockey_face_off_stat\", allstar$slug, allstar)\n",
    "get_tot_stat(\"blocked_shots\", \"hockey_defensive_stat\", allstar$slug, allstar)\n",
    "get_tot_stat(\"hits\", \"hockey_defensive_stat\", allstar$slug, allstar)"
   ]
  },
  {
   "cell_type": "code",
   "execution_count": null,
   "metadata": {
    "collapsed": false
   },
   "outputs": [],
   "source": [
    "## the helper added data\n",
    "colnames(allstar)"
   ]
  },
  {
   "cell_type": "code",
   "execution_count": null,
   "metadata": {
    "collapsed": false
   },
   "outputs": [],
   "source": [
    "## quick look\n",
    "filter(allstar, pos != 'G') %>% head(3)"
   ]
  },
  {
   "cell_type": "code",
   "execution_count": null,
   "metadata": {
    "collapsed": false
   },
   "outputs": [],
   "source": [
    "## keep just the skaters\n",
    "skaters <- filter(allstar, pos != 'G')"
   ]
  },
  {
   "cell_type": "code",
   "execution_count": null,
   "metadata": {
    "collapsed": false
   },
   "outputs": [],
   "source": [
    "## filter just skaters and keep the columns we want for the clustering\n",
    "star_stats <- filter(allstar, pos != 'G') %>% \n",
    "  select(slug, pos, salary, games_played, goals:hits)\n",
    "star_stats <- as.data.frame(star_stats)\n",
    "player_slugs <- star_stats$slug\n",
    "player_pos <- star_stats$pos\n",
    "star_stats$slug <- NULL"
   ]
  },
  {
   "cell_type": "code",
   "execution_count": null,
   "metadata": {
    "collapsed": false
   },
   "outputs": [],
   "source": [
    "## some metrics and cleanup for clustering\n",
    "star_stats <- mutate(star_stats, \n",
    "                     points = goals + assists,\n",
    "                     value = salary / points)\n",
    "star_stats <- select(star_stats, -salary, -pos)\n",
    "row.names(star_stats) <- player_slugs\n"
   ]
  },
  {
   "cell_type": "code",
   "execution_count": null,
   "metadata": {
    "collapsed": false
   },
   "outputs": [],
   "source": [
    "str(star_stats)"
   ]
  },
  {
   "cell_type": "code",
   "execution_count": null,
   "metadata": {
    "collapsed": false
   },
   "outputs": [],
   "source": [
    "## scale the variables\n",
    "scale_stats <- data.frame(lapply(star_stats, function(x) scale(x)))"
   ]
  },
  {
   "cell_type": "code",
   "execution_count": null,
   "metadata": {
    "collapsed": true
   },
   "outputs": [],
   "source": [
    "## cluster\n",
    "star_clust <- hclust(dist(scale_stats))"
   ]
  },
  {
   "cell_type": "code",
   "execution_count": null,
   "metadata": {
    "collapsed": false
   },
   "outputs": [],
   "source": [
    "## plot\n",
    "plot(star_clust, labels=row.names(star_stats), main=\"2016 All Star Clustering\", xlab=\"\")"
   ]
  },
  {
   "cell_type": "markdown",
   "metadata": {},
   "source": [
    "### But in the end .....\n",
    "\n",
    "<br>\n",
    "\n",
    "![scott](https://cdn2.vox-cdn.com/thumbor/Dfa3SxrddruH_BdsUSih8l1ZADc=/cdn0.vox-cdn.com/uploads/chorus_asset/file/5984079/YES.0.gif)"
   ]
  },
  {
   "cell_type": "markdown",
   "metadata": {},
   "source": [
    "<hr/>"
   ]
  },
  {
   "cell_type": "markdown",
   "metadata": {},
   "source": [
    "# Scoring Networks\n",
    "\n",
    "As noted above, we recently published events for NHL games, most notably scoring plays and penalties.  Below I am going to work through how you might think of these data as a network.\n",
    "\n",
    "The basic idea is to think of how a goal is scored, as referenced through the goal scorer, and optionally, the primary and secondary assists.\n",
    "\n",
    "For example:\n",
    "\n",
    "![network](https://dl.dropboxusercontent.com/u/15276022/scoring-network.png)\n",
    "\n",
    "To give credit where credit is due, there is an emerging Passing Project that is doing some really cool stuff in this area.  \n",
    "\n",
    "Check out the work here: https://hockey-graphs.com/tag/passing-project/ and a recent tweet of the sort of work they are doing to transcribe games into datasets.\n",
    "\n",
    "![](https://pbs.twimg.com/media/CWcTzewU4AEQsvR.jpg)\n",
    "\n",
    "With respect the API, I am going to use the elements returned in the Scoring Plays and think of the data in graph terms."
   ]
  },
  {
   "cell_type": "code",
   "execution_count": null,
   "metadata": {
    "collapsed": false
   },
   "outputs": [],
   "source": [
    "## build the dataset\n",
    "scoring <- data.frame()\n",
    "for (team in teams$slug) {\n",
    "  sp_raw <- ss_get_result(ep=\"scoring_plays\", \n",
    "                          query=list(team_id=team),\n",
    "                          walk=TRUE)\n",
    "  ## parse\n",
    "  score_plays <- parse_stattle(sp_raw, \"scoring_plays\")\n",
    "  score_players <- parse_stattle(sp_raw, \"scoring_players\")\n",
    "  players <- parse_stattle(sp_raw, \"players\")\n",
    "  ##cleanup\n",
    "  players <- select(players, \n",
    "                    id, slug, name, position_abbreviation, \n",
    "                    salary, years_of_experience)\n",
    "  players <- unique(players)\n",
    "  names(players)[1] <- \"player_id\"\n",
    "  score_plays <- select(score_plays, id, empty_net, period_number, \n",
    "                        period_seconds, scoring_type)\n",
    "  names(score_plays)[1] <- \"scoring_play_id\"\n",
    "  score_plays <- unique(score_plays)\n",
    "  score_players <- select(score_players, player_id, role, scoring_play_id)\n",
    "  ## create a rank variable, where scorers are 1, primary = 2, secondary help = 3\n",
    "  score_players <- tbl_df(score_players) %>% \n",
    "    group_by(scoring_play_id) %>% \n",
    "    mutate(rank = 1:length(scoring_play_id)) %>% \n",
    "    ungroup\n",
    "  ## add on player info to the scoring players\n",
    "  dat <- left_join(score_players, players)\n",
    "  ## add on the play info\n",
    "  dat <- left_join(dat, score_plays)\n",
    "  ## add the team\n",
    "  dat$team <- team\n",
    "  ## bind to the scoring dat\n",
    "  scoring <- bind_rows(scoring, dat)\n",
    "  ## status\n",
    "  cat(\"finished \", team, \"\\n\")\n",
    "}"
   ]
  },
  {
   "cell_type": "code",
   "execution_count": null,
   "metadata": {
    "collapsed": false
   },
   "outputs": [],
   "source": [
    "## quick look at what we can do\n",
    "filter(scoring, scoring_play_id == '652ea514-c934-41c6-be57-19ee6bd5ed32') %>% \n",
    " select(name, rank, role)"
   ]
  },
  {
   "cell_type": "code",
   "execution_count": null,
   "metadata": {
    "collapsed": true
   },
   "outputs": [],
   "source": [
    "## create the datasets for the network\n",
    "## create a players dataframe\n",
    "players <- select(scoring, slug:years_of_experience) %>% \n",
    "  unique\n",
    "\n",
    "## create the data for the edgelist\n",
    "edges <- tbl_df(scoring) %>% \n",
    "  group_by(scoring_play_id) %>% \n",
    "  arrange(rank) %>% \n",
    "  transform(prev_player = lag(slug, 1)) %>% \n",
    "  ungroup \n",
    "edges <- filter(edges, !is.na(prev_player)) %>% \n",
    "  select(prev_player, slug)"
   ]
  },
  {
   "cell_type": "code",
   "execution_count": null,
   "metadata": {
    "collapsed": true
   },
   "outputs": [],
   "source": [
    "## load it into igraph\n",
    "## if you dont have it, simply install.packages(\"igraph\")\n",
    "g <- igraph::graph.data.frame(edges, directed=TRUE, players)"
   ]
  },
  {
   "cell_type": "code",
   "execution_count": null,
   "metadata": {
    "collapsed": false
   },
   "outputs": [],
   "source": [
    "## a quick overview of what we loaded\n",
    "g"
   ]
  },
  {
   "cell_type": "code",
   "execution_count": null,
   "metadata": {
    "collapsed": false
   },
   "outputs": [],
   "source": [
    "## the always plotted hairball-- do you see patterns in the data?\n",
    "plot(g)"
   ]
  },
  {
   "cell_type": "code",
   "execution_count": null,
   "metadata": {
    "collapsed": false
   },
   "outputs": [],
   "source": [
    "## some summary stats on the graph\n",
    "pr <- igraph::page_rank(g) ##pagerank\n",
    "bt <- igraph::betweenness(g) #betweenness"
   ]
  },
  {
   "cell_type": "code",
   "execution_count": null,
   "metadata": {
    "collapsed": false
   },
   "outputs": [],
   "source": [
    "## what came back\n",
    "class(pr)\n",
    "class(bt)"
   ]
  },
  {
   "cell_type": "code",
   "execution_count": null,
   "metadata": {
    "collapsed": false
   },
   "outputs": [],
   "source": [
    "## put together the data for the players\n",
    "graph_sum <- data.frame(player=names(bt), betweeness=bt, pagerank=pr$vector)\n",
    "rownames(graph_sum) = NULL"
   ]
  },
  {
   "cell_type": "code",
   "execution_count": null,
   "metadata": {
    "collapsed": false
   },
   "outputs": [],
   "source": [
    "## quick look\n",
    "head(graph_sum)"
   ]
  },
  {
   "cell_type": "code",
   "execution_count": null,
   "metadata": {
    "collapsed": false
   },
   "outputs": [],
   "source": [
    "ggplot(graph_sum, aes(x=pagerank, y=betweeness)) + \n",
    " geom_point() + \n",
    " geom_smooth()"
   ]
  },
  {
   "cell_type": "code",
   "execution_count": null,
   "metadata": {
    "collapsed": false
   },
   "outputs": [],
   "source": [
    "## any guesses on the outlier?\n",
    "filter(graph_sum, pagerank> .005 & betweeness > 10000)"
   ]
  },
  {
   "cell_type": "markdown",
   "metadata": {},
   "source": [
    "### Next steps\n",
    "\n",
    "There is alot more that you can do with this level of data, but one next step would be to use a tool like Neo4j to dive deeper into the patterns.  It's totally possible with igraph, but the cypher query language is really expressive and makes it easy to evaluate complex patterns. \n",
    "\n",
    "I previously entered the recent Neo4j Graphgist Competition where I used our API and Neo4j to demo how one might do a simple team ranking within the database."
   ]
  },
  {
   "cell_type": "code",
   "execution_count": null,
   "metadata": {
    "collapsed": true
   },
   "outputs": [],
   "source": []
  }
 ],
 "metadata": {
  "kernelspec": {
   "display_name": "R",
   "language": "R",
   "name": "ir"
  },
  "language_info": {
   "codemirror_mode": "r",
   "file_extension": ".r",
   "mimetype": "text/x-r-source",
   "name": "R",
   "pygments_lexer": "r",
   "version": "3.2.3"
  }
 },
 "nbformat": 4,
 "nbformat_minor": 0
}
